{
 "cells": [
  {
   "cell_type": "code",
   "execution_count": 9,
   "metadata": {},
   "outputs": [
    {
     "ename": "AppStartError",
     "evalue": "Could not create the process \"C:\\ProgramData\\Microsoft\\Windows\\Start Menu\\Programs\\Adobe Acrobat.lnk\"\nError returned by CreateProcess: (193, 'CreateProcess', '%1 is not a valid Win32 application.')",
     "output_type": "error",
     "traceback": [
      "\u001b[1;31m---------------------------------------------------------------------------\u001b[0m",
      "\u001b[1;31merror\u001b[0m                                     Traceback (most recent call last)",
      "File \u001b[1;32mc:\\Users\\VinhDinh\\Repos\\F2PDF\\.venv\\Lib\\site-packages\\pywinauto\\application.py:1038\u001b[0m, in \u001b[0;36mApplication.start\u001b[1;34m(self, cmd_line, timeout, retry_interval, create_new_console, wait_for_idle, work_dir)\u001b[0m\n\u001b[0;32m   1037\u001b[0m \u001b[39mtry\u001b[39;00m:\n\u001b[1;32m-> 1038\u001b[0m     (h_process, _, dw_process_id, _) \u001b[39m=\u001b[39m win32process\u001b[39m.\u001b[39;49mCreateProcess(\n\u001b[0;32m   1039\u001b[0m         \u001b[39mNone\u001b[39;49;00m, \t\t\t\t\t\u001b[39m# module name\u001b[39;49;00m\n\u001b[0;32m   1040\u001b[0m         command_line,\t\t\t\u001b[39m# command line\u001b[39;49;00m\n\u001b[0;32m   1041\u001b[0m         \u001b[39mNone\u001b[39;49;00m, \t\t\t\t\t\u001b[39m# Process handle not inheritable.\u001b[39;49;00m\n\u001b[0;32m   1042\u001b[0m         \u001b[39mNone\u001b[39;49;00m, \t\t\t\t\t\u001b[39m# Thread handle not inheritable.\u001b[39;49;00m\n\u001b[0;32m   1043\u001b[0m         \u001b[39m0\u001b[39;49m, \t\t\t\t\t\t\u001b[39m# Set handle inheritance to FALSE.\u001b[39;49;00m\n\u001b[0;32m   1044\u001b[0m         dw_creation_flags,\t\t\u001b[39m# Creation flags.\u001b[39;49;00m\n\u001b[0;32m   1045\u001b[0m         \u001b[39mNone\u001b[39;49;00m, \t\t\t\t\t\u001b[39m# Use parent's environment block.\u001b[39;49;00m\n\u001b[0;32m   1046\u001b[0m         work_dir,\t\t\t\t\u001b[39m# If None - use parent's starting directory.\u001b[39;49;00m\n\u001b[0;32m   1047\u001b[0m         start_info)\t\t\t\t\u001b[39m# STARTUPINFO structure.\u001b[39;00m\n\u001b[0;32m   1048\u001b[0m \u001b[39mexcept\u001b[39;00m \u001b[39mException\u001b[39;00m \u001b[39mas\u001b[39;00m exc:\n\u001b[0;32m   1049\u001b[0m     \u001b[39m# if it failed for some reason\u001b[39;00m\n",
      "\u001b[1;31merror\u001b[0m: (193, 'CreateProcess', '%1 is not a valid Win32 application.')",
      "\nDuring handling of the above exception, another exception occurred:\n",
      "\u001b[1;31mAppStartError\u001b[0m                             Traceback (most recent call last)",
      "Cell \u001b[1;32mIn[9], line 54\u001b[0m\n\u001b[0;32m     50\u001b[0m source_path \u001b[39m=\u001b[39m \u001b[39mr\u001b[39m\u001b[39m\"\u001b[39m\u001b[39mC:\u001b[39m\u001b[39m\\\u001b[39m\u001b[39mUsers\u001b[39m\u001b[39m\\\u001b[39m\u001b[39mPublic\u001b[39m\u001b[39m\\\u001b[39m\u001b[39mTurnbull Engineering\u001b[39m\u001b[39m\\\u001b[39m\u001b[39m00050 Proposals - Documents\u001b[39m\u001b[39m\\\u001b[39m\u001b[39m230807_SM EHV\u001b[39m\u001b[39m\\\u001b[39m\u001b[39m01_Client Inputs\u001b[39m\u001b[39m\\\u001b[39m\u001b[39m01. RFT Docs\u001b[39m\u001b[39m\\\u001b[39m\u001b[39mParticular Specification\u001b[39m\u001b[39m\\\u001b[39m\u001b[39mSWM_SMC-22-0722_EVM_RFT_Volume_4B_Particular_Specification_Works_Brief - SUPERSEDED NOT FOR USE.pdf\u001b[39m\u001b[39m\"\u001b[39m\n\u001b[0;32m     52\u001b[0m destination_path \u001b[39m=\u001b[39m \u001b[39mr\u001b[39m\u001b[39m\"\u001b[39m\u001b[39mC:\u001b[39m\u001b[39m\\\u001b[39m\u001b[39mUsers\u001b[39m\u001b[39m\\\u001b[39m\u001b[39mVinhDinh\u001b[39m\u001b[39m\\\u001b[39m\u001b[39mDesktop\u001b[39m\u001b[39m\\\u001b[39m\u001b[39mtest.pdf\u001b[39m\u001b[39m\"\u001b[39m\n\u001b[1;32m---> 54\u001b[0m copy_protected_pdf(source_path, destination_path)\n",
      "Cell \u001b[1;32mIn[9], line 11\u001b[0m, in \u001b[0;36mcopy_protected_pdf\u001b[1;34m(source_path, destination_path)\u001b[0m\n\u001b[0;32m      9\u001b[0m \u001b[39m# First, open the source document using adobe acrobat\u001b[39;00m\n\u001b[0;32m     10\u001b[0m app \u001b[39m=\u001b[39m pywinauto\u001b[39m.\u001b[39mapplication\u001b[39m.\u001b[39mApplication()\n\u001b[1;32m---> 11\u001b[0m app\u001b[39m.\u001b[39;49mstart(\u001b[39mr\u001b[39;49m\u001b[39m\"\u001b[39;49m\u001b[39mC:\u001b[39;49m\u001b[39m\\\u001b[39;49m\u001b[39mProgramData\u001b[39;49m\u001b[39m\\\u001b[39;49m\u001b[39mMicrosoft\u001b[39;49m\u001b[39m\\\u001b[39;49m\u001b[39mWindows\u001b[39;49m\u001b[39m\\\u001b[39;49m\u001b[39mStart Menu\u001b[39;49m\u001b[39m\\\u001b[39;49m\u001b[39mPrograms\u001b[39;49m\u001b[39m\\\u001b[39;49m\u001b[39mAdobe Acrobat.lnk\u001b[39;49m\u001b[39m\"\u001b[39;49m)\n\u001b[0;32m     12\u001b[0m app_window \u001b[39m=\u001b[39m app\u001b[39m.\u001b[39mwindow(title_re\u001b[39m=\u001b[39m\u001b[39m\"\u001b[39m\u001b[39m.*Adobe Acrobat.*\u001b[39m\u001b[39m\"\u001b[39m)\n\u001b[0;32m     13\u001b[0m app_window\u001b[39m.\u001b[39mwait(\u001b[39m\"\u001b[39m\u001b[39mready\u001b[39m\u001b[39m\"\u001b[39m)\n",
      "File \u001b[1;32mc:\\Users\\VinhDinh\\Repos\\F2PDF\\.venv\\Lib\\site-packages\\pywinauto\\application.py:1052\u001b[0m, in \u001b[0;36mApplication.start\u001b[1;34m(self, cmd_line, timeout, retry_interval, create_new_console, wait_for_idle, work_dir)\u001b[0m\n\u001b[0;32m   1048\u001b[0m \u001b[39mexcept\u001b[39;00m \u001b[39mException\u001b[39;00m \u001b[39mas\u001b[39;00m exc:\n\u001b[0;32m   1049\u001b[0m     \u001b[39m# if it failed for some reason\u001b[39;00m\n\u001b[0;32m   1050\u001b[0m     message \u001b[39m=\u001b[39m (\u001b[39m'\u001b[39m\u001b[39mCould not create the process \u001b[39m\u001b[39m\"\u001b[39m\u001b[39m%s\u001b[39;00m\u001b[39m\"\u001b[39m\u001b[39m\\n\u001b[39;00m\u001b[39m'\u001b[39m\n\u001b[0;32m   1051\u001b[0m                \u001b[39m'\u001b[39m\u001b[39mError returned by CreateProcess: \u001b[39m\u001b[39m%s\u001b[39;00m\u001b[39m'\u001b[39m) \u001b[39m%\u001b[39m (cmd_line, \u001b[39mstr\u001b[39m(exc))\n\u001b[1;32m-> 1052\u001b[0m     \u001b[39mraise\u001b[39;00m AppStartError(message)\n\u001b[0;32m   1054\u001b[0m \u001b[39mself\u001b[39m\u001b[39m.\u001b[39mprocess \u001b[39m=\u001b[39m dw_process_id\n\u001b[0;32m   1056\u001b[0m \u001b[39mif\u001b[39;00m \u001b[39mself\u001b[39m\u001b[39m.\u001b[39mbackend\u001b[39m.\u001b[39mname \u001b[39m==\u001b[39m \u001b[39m'\u001b[39m\u001b[39mwin32\u001b[39m\u001b[39m'\u001b[39m:\n",
      "\u001b[1;31mAppStartError\u001b[0m: Could not create the process \"C:\\ProgramData\\Microsoft\\Windows\\Start Menu\\Programs\\Adobe Acrobat.lnk\"\nError returned by CreateProcess: (193, 'CreateProcess', '%1 is not a valid Win32 application.')"
     ]
    }
   ],
   "source": [
    "import pywinauto\n",
    "import time\n",
    "\n",
    "desktop = pywinauto.Desktop(backend=\"uia\")"
   ]
  },
  {
   "cell_type": "code",
   "execution_count": null,
   "metadata": {},
   "outputs": [],
   "source": []
  }
 ],
 "metadata": {
  "kernelspec": {
   "display_name": ".venv",
   "language": "python",
   "name": "python3"
  },
  "language_info": {
   "codemirror_mode": {
    "name": "ipython",
    "version": 3
   },
   "file_extension": ".py",
   "mimetype": "text/x-python",
   "name": "python",
   "nbconvert_exporter": "python",
   "pygments_lexer": "ipython3",
   "version": "3.11.4"
  },
  "orig_nbformat": 4
 },
 "nbformat": 4,
 "nbformat_minor": 2
}
